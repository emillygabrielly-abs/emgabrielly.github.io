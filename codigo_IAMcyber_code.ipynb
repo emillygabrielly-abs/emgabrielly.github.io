{
  "nbformat": 4,
  "nbformat_minor": 0,
  "metadata": {
    "colab": {
      "name": "IAMcyber_code.ipynb",
      "provenance": [],
      "collapsed_sections": []
    },
    "kernelspec": {
      "name": "python3",
      "display_name": "Python 3"
    },
    "language_info": {
      "name": "python"
    }
  },
  "cells": [
    {
      "cell_type": "code",
      "source": [
        "!pip install -q streamlit"
      ],
      "metadata": {
        "id": "7ZnpQT5Bwnph",
        "colab": {
          "base_uri": "https://localhost:8080/"
        },
        "outputId": "85e1bdc8-5231-4252-828e-eaabefd5bd38"
      },
      "execution_count": null,
      "outputs": [
        {
          "output_type": "stream",
          "name": "stdout",
          "text": [
            "\u001b[K     |████████████████████████████████| 10.1 MB 11.5 MB/s \n",
            "\u001b[K     |████████████████████████████████| 4.3 MB 38.7 MB/s \n",
            "\u001b[K     |████████████████████████████████| 111 kB 38.8 MB/s \n",
            "\u001b[K     |████████████████████████████████| 181 kB 38.5 MB/s \n",
            "\u001b[K     |████████████████████████████████| 164 kB 24.3 MB/s \n",
            "\u001b[K     |████████████████████████████████| 77 kB 4.2 MB/s \n",
            "\u001b[K     |████████████████████████████████| 63 kB 1.6 MB/s \n",
            "\u001b[K     |████████████████████████████████| 131 kB 44.5 MB/s \n",
            "\u001b[K     |████████████████████████████████| 428 kB 42.2 MB/s \n",
            "\u001b[K     |████████████████████████████████| 793 kB 39.4 MB/s \n",
            "\u001b[K     |████████████████████████████████| 130 kB 43.4 MB/s \n",
            "\u001b[K     |████████████████████████████████| 381 kB 50.8 MB/s \n",
            "\u001b[?25h  Building wheel for blinker (setup.py) ... \u001b[?25l\u001b[?25hdone\n",
            "  Building wheel for validators (setup.py) ... \u001b[?25l\u001b[?25hdone\n",
            "\u001b[31mERROR: pip's dependency resolver does not currently take into account all the packages that are installed. This behaviour is the source of the following dependency conflicts.\n",
            "jupyter-console 5.2.0 requires prompt-toolkit<2.0.0,>=1.0.0, but you have prompt-toolkit 3.0.29 which is incompatible.\n",
            "google-colab 1.0.0 requires ipykernel~=4.10, but you have ipykernel 6.13.0 which is incompatible.\n",
            "google-colab 1.0.0 requires ipython~=5.5.0, but you have ipython 7.33.0 which is incompatible.\n",
            "google-colab 1.0.0 requires tornado~=5.1.0; python_version >= \"3.0\", but you have tornado 6.1 which is incompatible.\u001b[0m\n"
          ]
        }
      ]
    },
    {
      "cell_type": "code",
      "source": [
        "!pip install -q streamlit-ace\n",
        "!pip install -q pyngrok\n",
        "!pip install -q fuzzywuzzy[speedup]\n",
        "!streamlit run app.py &>/dev/null&"
      ],
      "metadata": {
        "id": "ffUEA-5awo5m",
        "colab": {
          "base_uri": "https://localhost:8080/"
        },
        "outputId": "1cdf56de-8cf5-4378-e51a-a6b4b792bf12"
      },
      "execution_count": null,
      "outputs": [
        {
          "output_type": "stream",
          "name": "stdout",
          "text": [
            "\u001b[K     |████████████████████████████████| 3.6 MB 17.0 MB/s \n",
            "\u001b[K     |████████████████████████████████| 745 kB 6.1 MB/s \n",
            "\u001b[?25h  Building wheel for pyngrok (setup.py) ... \u001b[?25l\u001b[?25hdone\n",
            "\u001b[K     |████████████████████████████████| 50 kB 6.5 MB/s \n",
            "\u001b[?25h  Building wheel for python-levenshtein (setup.py) ... \u001b[?25l\u001b[?25hdone\n"
          ]
        }
      ]
    },
    {
      "cell_type": "code",
      "source": [
        "%%writefile app.py\n",
        "import streamlit as st\n",
        "import requests\n",
        "import json\n",
        "import re\n",
        "\n",
        "def getFiltroCliente(codigoAcesso):\n",
        "  # id = código de acesso do cliente\n",
        "    fraudados = requests.get('https://0verthrive.github.io/fraudadores.json')\n",
        "    cancelados = requests.get('https://0verthrive.github.io/cancelados.json')\n",
        "    furtados = requests.get('https://0verthrive.github.io/furtados.json')\n",
        "    falecidos = requests.get('https://emgabrielly.github.io/bases/falecidos.json')\n",
        " \n",
        " # Transformando em dicionário\n",
        " \n",
        "    dict_fraud = fraudados.json()['fraudadores']\n",
        "    dict_furt = furtados.json()['furtado']\n",
        "    dict_canc = cancelados.json()['cancelados']\n",
        "    dict_fale = falecidos.json()['id']\n",
        "\n",
        "    list_apis = [dict_fraud, dict_furt, dict_canc, dict_fale]\n",
        "    \n",
        "  # Verifica se está no formato desejado\n",
        "    padrao = r\"^(\\d{5,5})$\"\n",
        "    match = re.search(padrao, codigoAcesso)\n",
        "\n",
        "    for item in list_apis:\n",
        "      for dicio in item:\n",
        "        for valor in dicio.values():\n",
        "          if str(match.group(1)) == str(valor):\n",
        "            return True\n",
        "\n",
        "#Criando a webpage:\n",
        "def main():\n",
        "    html_temp = \"\"\"\n",
        "    <body style=\"background-color:black\">\n",
        "    <div style =\"background-image:linear-gradient(to right,#33ccff,pink);padding:13;border-radius:25px;\"> \n",
        "    <h1 style =\"color:white;text-align:center;\">BANCO IAM</h1> \n",
        "    </div>\n",
        "    <br/>\n",
        "    </body> \n",
        "    \"\"\"\n",
        "    st.markdown(html_temp, unsafe_allow_html=True)\n",
        "\n",
        "\n",
        "    codigo_id = st.text_input('Código de Acesso:')\n",
        "    if st.button(\"Acessar\"):\n",
        "        if (getFiltroCliente(codigo_id)):\n",
        "            return st.warning(\"Solicitação negada. O usuário não pode acessar a conta\")\n",
        "        else:\n",
        "            return st.success(\"Pode Acessar a conta\")\n",
        "\n",
        "\n",
        "if __name__ == '__main__':\n",
        "    main()"
      ],
      "metadata": {
        "colab": {
          "base_uri": "https://localhost:8080/"
        },
        "id": "5lKMisT602w0",
        "outputId": "04bd44ad-55b4-449f-91d0-f51c7dcc3dd0"
      },
      "execution_count": null,
      "outputs": [
        {
          "output_type": "stream",
          "name": "stdout",
          "text": [
            "Overwriting app.py\n"
          ]
        }
      ]
    },
    {
      "cell_type": "code",
      "source": [
        "!streamlit run app.py & npx localtunnel --port 8501"
      ],
      "metadata": {
        "id": "PlmE47Iuwxj1",
        "colab": {
          "base_uri": "https://localhost:8080/"
        },
        "outputId": "39567862-e94c-41ac-a81f-19e4ab52dc3b"
      },
      "execution_count": null,
      "outputs": [
        {
          "output_type": "stream",
          "name": "stdout",
          "text": [
            "2022-05-15 20:24:28.385 INFO    numexpr.utils: NumExpr defaulting to 2 threads.\n",
            "\u001b[0m\n",
            "\u001b[34m\u001b[1m  You can now view your Streamlit app in your browser.\u001b[0m\n",
            "\u001b[0m\n",
            "\u001b[34m  Network URL: \u001b[0m\u001b[1mhttp://172.28.0.2:8502\u001b[0m\n",
            "\u001b[34m  External URL: \u001b[0m\u001b[1mhttp://35.245.103.102:8502\u001b[0m\n",
            "\u001b[0m\n",
            "\u001b[K\u001b[?25hnpx: installed 22 in 3.941s\n",
            "your url is: https://modern-apes-hang-35-245-103-102.loca.lt\n"
          ]
        }
      ]
    }
  ]
}